{
 "cells": [
  {
   "cell_type": "code",
   "execution_count": 29,
   "metadata": {},
   "outputs": [],
   "source": [
    "import numpy as np\n",
    "from loss import MSELoss, BinaryCrossEntropyLoss\n",
    "from module import Linear, TanH, Sigmoid, Sequentiel\n",
    "from optimizer import Optim\n",
    "from utils import gen_arti\n",
    "from sklearn.model_selection import train_test_split\n",
    "from sklearn.metrics import accuracy_score"
   ]
  },
  {
   "cell_type": "code",
   "execution_count": 30,
   "metadata": {},
   "outputs": [
    {
     "data": {
      "text/plain": [
       "array([[ 5.00885347, 18.01842961]])"
      ]
     },
     "execution_count": 30,
     "metadata": {},
     "output_type": "execute_result"
    }
   ],
   "source": [
    "x = np.random.randn(100, 3)\n",
    "y = np.hstack((np.expand_dims(x[:, 0] + 2 * x[:, 1], 1), np.expand_dims(x[:, 0] + x[:, 1] + 5 * x[:, 2], 1)))\n",
    "\n",
    "module = Linear(3, 2)\n",
    "loss = MSELoss()\n",
    "\n",
    "for _ in range(100):\n",
    "    yhat = module.forward(x)\n",
    "    delta1 = loss.backward(y, yhat)\n",
    "\n",
    "    module.backward_update_gradient(delta1)\n",
    "    module.update_parameters()\n",
    "    module.zero_grad()\n",
    "\n",
    "module.forward(np.array([[1, 2, 3]]))"
   ]
  },
  {
   "cell_type": "code",
   "execution_count": 31,
   "metadata": {},
   "outputs": [
    {
     "data": {
      "text/plain": [
       "array([[ 5.03636265, 17.9907656 ]])"
      ]
     },
     "execution_count": 31,
     "metadata": {},
     "output_type": "execute_result"
    }
   ],
   "source": [
    "m = Sequentiel(Linear(3, 2))\n",
    "op = Optim(m, MSELoss())\n",
    "\n",
    "for _ in range(100):\n",
    "    op.zero_grad()\n",
    "    op.step(x, y)\n",
    "\n",
    "m.forward(np.array([[1, 2, 3]]))"
   ]
  },
  {
   "cell_type": "code",
   "execution_count": 32,
   "metadata": {},
   "outputs": [],
   "source": [
    "x, y = gen_arti(data_type=1)\n",
    "y[y == -1] = 0\n",
    "\n",
    "x_train, x_test, y_train, y_test = train_test_split(x, y, test_size=.2)"
   ]
  },
  {
   "cell_type": "code",
   "execution_count": 36,
   "metadata": {},
   "outputs": [],
   "source": [
    "m = Sequentiel(Linear(2, 2), TanH(), Linear(2, 1), Sigmoid())\n",
    "op = Optim(m, BinaryCrossEntropyLoss())\n",
    "\n",
    "for _ in range(1000):\n",
    "    op.zero_grad()\n",
    "    op.step(x_train, y_train)"
   ]
  },
  {
   "cell_type": "code",
   "execution_count": 39,
   "metadata": {},
   "outputs": [],
   "source": [
    "yhat = m.forward(x_test)\n",
    "yhat[yhat >= .5] = 1\n",
    "yhat[yhat < .5] = 0"
   ]
  },
  {
   "cell_type": "code",
   "execution_count": 40,
   "metadata": {},
   "outputs": [
    {
     "data": {
      "text/plain": [
       "0.985"
      ]
     },
     "execution_count": 40,
     "metadata": {},
     "output_type": "execute_result"
    }
   ],
   "source": [
    "accuracy_score(y_test, yhat)"
   ]
  },
  {
   "cell_type": "code",
   "execution_count": null,
   "metadata": {},
   "outputs": [],
   "source": []
  }
 ],
 "metadata": {
  "interpreter": {
   "hash": "844be12b3cb3c3029260a62c81ea7c4b4e94f45ac5dd5252fca71d8570bc4e91"
  },
  "kernelspec": {
   "display_name": "Python 3.7.11 ('ml')",
   "language": "python",
   "name": "python3"
  },
  "language_info": {
   "codemirror_mode": {
    "name": "ipython",
    "version": 3
   },
   "file_extension": ".py",
   "mimetype": "text/x-python",
   "name": "python",
   "nbconvert_exporter": "python",
   "pygments_lexer": "ipython3",
   "version": "3.7.11"
  },
  "orig_nbformat": 4
 },
 "nbformat": 4,
 "nbformat_minor": 2
}
