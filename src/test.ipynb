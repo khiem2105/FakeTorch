{
 "cells": [
  {
   "cell_type": "code",
   "execution_count": 1,
   "metadata": {},
   "outputs": [],
   "source": [
    "import numpy as np\n",
    "from loss import MSELoss, BinaryCrossEntropyLoss\n",
    "from module import Linear, TanH, Sigmoid, Sequentiel\n",
    "from optimizer import Optim\n",
    "from utils import gen_arti\n",
    "from sklearn.model_selection import train_test_split"
   ]
  },
  {
   "cell_type": "code",
   "execution_count": 2,
   "metadata": {},
   "outputs": [
    {
     "data": {
      "text/plain": [
       "array([[ 5.0291979, 17.9655151]])"
      ]
     },
     "execution_count": 2,
     "metadata": {},
     "output_type": "execute_result"
    }
   ],
   "source": [
    "x = np.random.randn(100, 3)\n",
    "y = np.hstack((np.expand_dims(x[:, 0] + 2 * x[:, 1], 1), np.expand_dims(x[:, 0] + x[:, 1] + 5 * x[:, 2], 1)))\n",
    "\n",
    "module = Linear(3, 2)\n",
    "loss = MSELoss()\n",
    "\n",
    "for _ in range(100):\n",
    "    yhat = module.forward(x)\n",
    "    delta1 = loss.backward(y, yhat)\n",
    "\n",
    "    module.backward_update_gradient(delta1)\n",
    "    module.update_parameters()\n",
    "    module.zero_grad()\n",
    "\n",
    "module.forward(np.array([[1, 2, 3]]))"
   ]
  },
  {
   "cell_type": "code",
   "execution_count": 3,
   "metadata": {},
   "outputs": [],
   "source": [
    "x, y = gen_arti(data_type=1)\n",
    "y[y == -1] = 0\n",
    "\n",
    "x_train, x_test, y_train, y_test = train_test_split(x, y, test_size=.2)"
   ]
  },
  {
   "cell_type": "code",
   "execution_count": 4,
   "metadata": {},
   "outputs": [
    {
     "name": "stderr",
     "output_type": "stream",
     "text": [
      "/home/khiemlk17/Documents/M1 S2 ANDROIDE/ML/project/src/loss.py:21: RuntimeWarning: divide by zero encountered in log\n",
      "  return y * np.log(yhat) + (1 - y) * np.log(1 - yhat)\n",
      "/home/khiemlk17/Documents/M1 S2 ANDROIDE/ML/project/src/loss.py:21: RuntimeWarning: invalid value encountered in multiply\n",
      "  return y * np.log(yhat) + (1 - y) * np.log(1 - yhat)\n",
      "/home/khiemlk17/Documents/M1 S2 ANDROIDE/ML/project/src/loss.py:25: RuntimeWarning: divide by zero encountered in true_divide\n",
      "  return (y - yhat) / (yhat * (1 - yhat))\n",
      "/home/khiemlk17/Documents/M1 S2 ANDROIDE/ML/project/src/loss.py:25: RuntimeWarning: invalid value encountered in true_divide\n",
      "  return (y - yhat) / (yhat * (1 - yhat))\n",
      "/home/khiemlk17/Documents/M1 S2 ANDROIDE/ML/project/src/module.py:88: RuntimeWarning: invalid value encountered in multiply\n",
      "  return delta * self.output * (1 - self.output)\n"
     ]
    }
   ],
   "source": [
    "m = Sequentiel(Linear(2, 2), TanH(), Linear(2, 1), Sigmoid())\n",
    "op = Optim(m, BinaryCrossEntropyLoss())\n",
    "\n",
    "for _ in range(100):\n",
    "    op.step(x_train, y_train)"
   ]
  },
  {
   "cell_type": "code",
   "execution_count": 6,
   "metadata": {},
   "outputs": [
    {
     "name": "stdout",
     "output_type": "stream",
     "text": [
      "[-676.0904224235517, -754.8942223613742, -948.4252477677976, -1312.3596946114005, -1966.4922977183555, -2994.5289277196734, -4415.532207682607, -6245.669845206503, -8563.14340288742, -11989.817736341742, -18196.62102072017, -22520.03728780023, nan, nan, nan, nan, nan, nan, nan, nan, nan, nan, nan, nan, nan, nan, nan, nan, nan, nan, nan, nan, nan, nan, nan, nan, nan, nan, nan, nan, nan, nan, nan, nan, nan, nan, nan, nan, nan, nan, nan, nan, nan, nan, nan, nan, nan, nan, nan, nan, nan, nan, nan, nan, nan, nan, nan, nan, nan, nan, nan, nan, nan, nan, nan, nan, nan, nan, nan, nan, nan, nan, nan, nan, nan, nan, nan, nan, nan, nan, nan, nan, nan, nan, nan, nan, nan, nan, nan, nan]\n"
     ]
    }
   ],
   "source": [
    "print(op.train_loss)\n",
    "\n",
    "\n",
    "\n",
    "\n"
   ]
  }
 ],
 "metadata": {
  "interpreter": {
   "hash": "844be12b3cb3c3029260a62c81ea7c4b4e94f45ac5dd5252fca71d8570bc4e91"
  },
  "kernelspec": {
   "display_name": "Python 3.7.11 ('ml')",
   "language": "python",
   "name": "python3"
  },
  "language_info": {
   "codemirror_mode": {
    "name": "ipython",
    "version": 3
   },
   "file_extension": ".py",
   "mimetype": "text/x-python",
   "name": "python",
   "nbconvert_exporter": "python",
   "pygments_lexer": "ipython3",
   "version": "3.7.11"
  },
  "orig_nbformat": 4
 },
 "nbformat": 4,
 "nbformat_minor": 2
}
