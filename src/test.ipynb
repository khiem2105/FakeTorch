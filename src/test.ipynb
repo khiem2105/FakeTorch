{
 "cells": [
  {
   "cell_type": "code",
   "execution_count": 3,
   "metadata": {},
   "outputs": [],
   "source": [
    "import numpy as np"
   ]
  },
  {
   "cell_type": "code",
   "execution_count": 51,
   "metadata": {},
   "outputs": [
    {
     "name": "stdout",
     "output_type": "stream",
     "text": [
      "[[2 2 2]\n",
      " [2 2 2]] [[-2 -2 -2]\n",
      " [-2 -2 -2]]\n"
     ]
    }
   ],
   "source": [
    "y = np.full((2, 3), 2)\n",
    "yhat = np.full((2, 3), -2)\n",
    "print(y, yhat)"
   ]
  },
  {
   "cell_type": "code",
   "execution_count": 52,
   "metadata": {},
   "outputs": [
    {
     "data": {
      "text/plain": [
       "array([48., 48.])"
      ]
     },
     "execution_count": 52,
     "metadata": {},
     "output_type": "execute_result"
    }
   ],
   "source": [
    "np.square(np.linalg.norm(y - yhat, axis=-1))"
   ]
  },
  {
   "cell_type": "code",
   "execution_count": null,
   "metadata": {},
   "outputs": [],
   "source": []
  },
  {
   "cell_type": "code",
   "execution_count": 1,
   "metadata": {},
   "outputs": [],
   "source": [
    "from loss import MSELoss\n",
    "from module import Linear\n",
    "import torch"
   ]
  },
  {
   "cell_type": "code",
   "execution_count": 13,
   "metadata": {},
   "outputs": [],
   "source": [
    "x = np.random.randn(100, 3)\n",
    "y = np.hstack((np.expand_dims(x[:, 0] + 2 * x[:, 1], 1), np.expand_dims(x[:, 0] + x[:, 1] + 5 * x[:, 2], 1)))\n",
    "\n",
    "module = Linear(3, 2)\n",
    "loss = MSELoss()\n",
    "\n",
    "for _ in range(100):\n",
    "    yhat = module.forward(x)\n",
    "    delta1 = loss.backward(y, yhat)\n",
    "\n",
    "    module.backward_update_gradient(x, delta1)\n",
    "    module.update_parameters()\n",
    "    module.zero_grad()"
   ]
  },
  {
   "cell_type": "code",
   "execution_count": 14,
   "metadata": {},
   "outputs": [
    {
     "data": {
      "text/plain": [
       "array([[ 4.99999999, 17.99999998]])"
      ]
     },
     "execution_count": 14,
     "metadata": {},
     "output_type": "execute_result"
    }
   ],
   "source": [
    "module.forward(np.array([[1, 2, 3]]))"
   ]
  },
  {
   "cell_type": "code",
   "execution_count": 55,
   "metadata": {},
   "outputs": [],
   "source": [
    "x = torch.randn(100, 2)\n",
    "y = x[:, 0] + 2 * x[:, 1]\n",
    "y = torch.unsqueeze(y, 1)\n",
    "\n",
    "m = torch.nn.Linear(2, 1)\n",
    "l = torch.nn.MSELoss()\n",
    "optim = torch.optim.SGD(m.parameters(), lr=0.001)\n",
    "\n",
    "for _ in range(10000):\n",
    "    optim.zero_grad()\n",
    "\n",
    "    outputs = m(x)\n",
    "    loss = l(outputs, y)\n",
    "    loss.backward()\n",
    "    optim.step()"
   ]
  },
  {
   "cell_type": "code",
   "execution_count": 60,
   "metadata": {},
   "outputs": [
    {
     "data": {
      "text/plain": [
       "tensor([6.9999], grad_fn=<AddBackward0>)"
      ]
     },
     "execution_count": 60,
     "metadata": {},
     "output_type": "execute_result"
    }
   ],
   "source": [
    "m(torch.Tensor([1, 3]))"
   ]
  },
  {
   "cell_type": "code",
   "execution_count": null,
   "metadata": {},
   "outputs": [],
   "source": []
  }
 ],
 "metadata": {
  "interpreter": {
   "hash": "844be12b3cb3c3029260a62c81ea7c4b4e94f45ac5dd5252fca71d8570bc4e91"
  },
  "kernelspec": {
   "display_name": "Python 3.7.11 ('ml')",
   "language": "python",
   "name": "python3"
  },
  "language_info": {
   "codemirror_mode": {
    "name": "ipython",
    "version": 3
   },
   "file_extension": ".py",
   "mimetype": "text/x-python",
   "name": "python",
   "nbconvert_exporter": "python",
   "pygments_lexer": "ipython3",
   "version": "3.7.11"
  },
  "orig_nbformat": 4
 },
 "nbformat": 4,
 "nbformat_minor": 2
}
