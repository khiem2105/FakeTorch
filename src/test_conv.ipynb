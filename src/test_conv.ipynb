{
 "cells": [
  {
   "cell_type": "code",
   "execution_count": 1,
   "metadata": {},
   "outputs": [],
   "source": [
    "from conv import *\n",
    "\n",
    "import numpy as np\n",
    "\n",
    "np.random.seed(1)"
   ]
  },
  {
   "cell_type": "code",
   "execution_count": 2,
   "metadata": {},
   "outputs": [
    {
     "name": "stdout",
     "output_type": "stream",
     "text": [
      "Z's mean =\n",
      " 0.6923608807576933\n",
      "Z[3,2,1] =\n",
      " [-1.28912231  2.27650251  6.61941931  0.95527176  8.25132576  2.31329639\n",
      " 13.00689405  2.34576051]\n"
     ]
    }
   ],
   "source": [
    "A_prev = np.random.randn(10,5,7,4)\n",
    "W = np.random.randn(3,3,4,8)\n",
    "b = np.random.randn(1,1,1,8)\n",
    "hparameters = {\"pad\" : 1,\n",
    "               \"stride\": 2}\n",
    "\n",
    "Z = conv_forward(A_prev, W, b, stride=2, pad=1)\n",
    "print(\"Z's mean =\\n\", np.mean(Z))\n",
    "print(\"Z[3,2,1] =\\n\", Z[3,2,1])"
   ]
  },
  {
   "cell_type": "code",
   "execution_count": 3,
   "metadata": {},
   "outputs": [
    {
     "name": "stdout",
     "output_type": "stream",
     "text": [
      "1.9068817988487763\n",
      "83.0833056909232\n"
     ]
    }
   ],
   "source": [
    "np.random.seed(1)\n",
    "\n",
    "dW, db = conv_backward_parameters(Z, A_prev, W, stride=2, pad=1)\n",
    "\n",
    "print(np.mean(dW))\n",
    "print(np.mean(db))"
   ]
  },
  {
   "cell_type": "code",
   "execution_count": 4,
   "metadata": {},
   "outputs": [
    {
     "name": "stdout",
     "output_type": "stream",
     "text": [
      "2.975272818608085\n"
     ]
    }
   ],
   "source": [
    "dA = conv_backward_delta(Z, A_prev, W, stride=2, pad=1)\n",
    "\n",
    "print(np.mean(dA))"
   ]
  },
  {
   "cell_type": "code",
   "execution_count": 7,
   "metadata": {},
   "outputs": [],
   "source": [
    "def convolve3d(img, kernel):\n",
    "    # calc the size of the array of submatracies\n",
    "    sub_shape = tuple(np.subtract(img.shape, kernel.shape) + 1)\n",
    "\n",
    "    # alias for the function\n",
    "    strd = np.lib.stride_tricks.as_strided\n",
    "\n",
    "    # make an array of submatracies\n",
    "    submatrices = strd(img,kernel.shape + sub_shape,img.strides * 2)\n",
    "\n",
    "    # sum the submatraces and kernel\n",
    "    convolved_matrix = np.einsum('hij,hijklm->klm', kernel, submatrices)\n",
    "\n",
    "    return convolved_matrix"
   ]
  },
  {
   "cell_type": "code",
   "execution_count": null,
   "metadata": {},
   "outputs": [],
   "source": []
  }
 ],
 "metadata": {
  "interpreter": {
   "hash": "844be12b3cb3c3029260a62c81ea7c4b4e94f45ac5dd5252fca71d8570bc4e91"
  },
  "kernelspec": {
   "display_name": "Python 3.7.11 ('ml')",
   "language": "python",
   "name": "python3"
  },
  "language_info": {
   "codemirror_mode": {
    "name": "ipython",
    "version": 3
   },
   "file_extension": ".py",
   "mimetype": "text/x-python",
   "name": "python",
   "nbconvert_exporter": "python",
   "pygments_lexer": "ipython3",
   "version": "3.7.11"
  },
  "orig_nbformat": 4
 },
 "nbformat": 4,
 "nbformat_minor": 2
}
